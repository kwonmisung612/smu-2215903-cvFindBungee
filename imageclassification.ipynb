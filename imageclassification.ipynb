{
 "cells": [
  {
   "cell_type": "code",
   "execution_count": 7,
   "metadata": {},
   "outputs": [],
   "source": [
    "from azure.cognitiveservices.vision.customvision.prediction import CustomVisionPredictionClient\n",
    "from msrest.authentication import ApiKeyCredentials"
   ]
  },
  {
   "cell_type": "code",
   "execution_count": 12,
   "metadata": {},
   "outputs": [],
   "source": [
    "prediction_key = \"9sKJiSHhUoPU7HjiubiGHbFjETwbmAuY4KHx17uGIdGbkqNyaCleJQQJ99BDACYeBjFXJ3w3AAAIACOGe4tA\"\n",
    "prediction_endpoint = \"https://smu2215903moonrocks-prediction.cognitiveservices.azure.com\"\n",
    "project_id = \"50d7fed6-5c1a-4f3f-b3ed-c95aec7b0206\"\n",
    "model_name = \"Iteration1\""
   ]
  },
  {
   "cell_type": "code",
   "execution_count": 13,
   "metadata": {},
   "outputs": [],
   "source": [
    "credentials = ApiKeyCredentials(in_headers={\"Prediction-key\": prediction_key})\n",
    "predictor = CustomVisionPredictionClient(endpoint=prediction_endpoint, credentials=credentials)"
   ]
  },
  {
   "cell_type": "code",
   "execution_count": 14,
   "metadata": {},
   "outputs": [
    {
     "name": "stdout",
     "output_type": "stream",
     "text": [
      "Tag: Highland, Probability: 0.99\n",
      "Tag: Basalt, Probability: 0.01\n"
     ]
    }
   ],
   "source": [
    "image_file = \"./data/Crustal_Anorthosite_s71-44987.jpg\"\n",
    "\n",
    "with open(image_file, mode=\"rb\") as image_data:\n",
    "    results = predictor.classify_image(project_id, model_name, image_data)\n",
    "\n",
    "for prediction in results.predictions:\n",
    "    print(f\"Tag: {prediction.tag_name}, Probability: {prediction.probability:.2f}\")\n"
   ]
  }
 ],
 "metadata": {
  "kernelspec": {
   "display_name": "Python 3",
   "language": "python",
   "name": "python3"
  },
  "language_info": {
   "codemirror_mode": {
    "name": "ipython",
    "version": 3
   },
   "file_extension": ".py",
   "mimetype": "text/x-python",
   "name": "python",
   "nbconvert_exporter": "python",
   "pygments_lexer": "ipython3",
   "version": "3.12.1"
  }
 },
 "nbformat": 4,
 "nbformat_minor": 2
}
